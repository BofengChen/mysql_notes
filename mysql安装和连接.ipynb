{
 "cells": [
  {
   "cell_type": "markdown",
   "metadata": {},
   "source": [
    "mysql安装：\n",
    "1. https://dev.mysql.com/downloads/file/?id=488055;\n",
    "2. https://blog.csdn.net/theLostLamb/article/details/78797643;\n",
    "3. https://jingyan.baidu.com/article/cdddd41ccdd38253ca00e148.html"
   ]
  },
  {
   "cell_type": "markdown",
   "metadata": {},
   "source": [
    "pyMySql:https://pymysql.readthedocs.io/en/latest/index.html"
   ]
  },
  {
   "cell_type": "code",
   "execution_count": 8,
   "metadata": {
    "ExecuteTime": {
     "end_time": "2019-08-03T01:22:28.656001Z",
     "start_time": "2019-08-03T01:22:28.626000Z"
    }
   },
   "outputs": [],
   "source": [
    "import pymysql\n",
    "conn = pymysql.connect(host = 'localhost',port = 3306,user = 'root',password = '091022',db = 'bank',charset='utf8')"
   ]
  },
  {
   "cell_type": "code",
   "execution_count": 16,
   "metadata": {
    "ExecuteTime": {
     "end_time": "2019-08-03T01:26:43.528579Z",
     "start_time": "2019-08-03T01:26:43.488577Z"
    }
   },
   "outputs": [
    {
     "data": {
      "text/plain": [
       "(('account',),\n",
       " ('branch',),\n",
       " ('business',),\n",
       " ('customer',),\n",
       " ('department',),\n",
       " ('employee',),\n",
       " ('individual',),\n",
       " ('officer',),\n",
       " ('product',),\n",
       " ('product_type',),\n",
       " ('s_vw',),\n",
       " ('string_tb',),\n",
       " ('t_apply_route',),\n",
       " ('transaction',),\n",
       " ('trip_points',),\n",
       " ('user',))"
      ]
     },
     "execution_count": 16,
     "metadata": {},
     "output_type": "execute_result"
    }
   ],
   "source": [
    "# 获取游标\n",
    "cursor = conn.cursor()\n",
    "    \n",
    "# 创建数据表\n",
    "effect_row = cursor.execute('''show tables''')\n",
    "data = cursor.fetchall()\n",
    "# effect_row = cursor.execute('''\n",
    "# CREATE TABLE `users` (\n",
    "#   `name` varchar(32) NOT NULL,\n",
    "#   `age` int unsigned NOT NULL DEFAULT '0',\n",
    "#   PRIMARY KEY (`name`)\n",
    "# ) ENGINE=InnoDB DEFAULT CHARSET=UTF8MB4\n",
    "# ''')\n",
    "    \n",
    "# # 插入数据(元组或列表)\n",
    "# effect_row = cursor.execute('INSERT INTO `users` (`name`, `age`) VALUES (%s, %s)', ('mary', 19))\n",
    "    \n",
    "# # 插入数据(字典)\n",
    "# info = {'name': 'fake', 'age': 15}\n",
    "# effect_row = cursor.execute('INSERT INTO `users` (`name`, `age`) VALUES (%(name)s, %(age)s)', info)\n",
    "    \n",
    "conn.commit()\n",
    "data"
   ]
  },
  {
   "cell_type": "code",
   "execution_count": null,
   "metadata": {},
   "outputs": [],
   "source": []
  },
  {
   "cell_type": "code",
   "execution_count": null,
   "metadata": {},
   "outputs": [],
   "source": []
  }
 ],
 "metadata": {
  "hide_input": false,
  "kernelspec": {
   "display_name": "Python 3 (ipykernel)",
   "language": "python",
   "name": "python3"
  },
  "language_info": {
   "codemirror_mode": {
    "name": "ipython",
    "version": 3
   },
   "file_extension": ".py",
   "mimetype": "text/x-python",
   "name": "python",
   "nbconvert_exporter": "python",
   "pygments_lexer": "ipython3",
   "version": "3.10.1"
  },
  "toc": {
   "base_numbering": 1,
   "nav_menu": {},
   "number_sections": true,
   "sideBar": true,
   "skip_h1_title": false,
   "title_cell": "Table of Contents",
   "title_sidebar": "Contents",
   "toc_cell": false,
   "toc_position": {},
   "toc_section_display": true,
   "toc_window_display": false
  },
  "varInspector": {
   "cols": {
    "lenName": 16,
    "lenType": 16,
    "lenVar": 40
   },
   "kernels_config": {
    "python": {
     "delete_cmd_postfix": "",
     "delete_cmd_prefix": "del ",
     "library": "var_list.py",
     "varRefreshCmd": "print(var_dic_list())"
    },
    "r": {
     "delete_cmd_postfix": ") ",
     "delete_cmd_prefix": "rm(",
     "library": "var_list.r",
     "varRefreshCmd": "cat(var_dic_list()) "
    }
   },
   "types_to_exclude": [
    "module",
    "function",
    "builtin_function_or_method",
    "instance",
    "_Feature"
   ],
   "window_display": false
  }
 },
 "nbformat": 4,
 "nbformat_minor": 2
}
